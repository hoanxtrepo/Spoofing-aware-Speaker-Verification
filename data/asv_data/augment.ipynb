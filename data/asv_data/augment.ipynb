{
 "cells": [
  {
   "cell_type": "code",
   "execution_count": 1,
   "metadata": {},
   "outputs": [
    {
     "data": {
      "text/plain": [
       "54865"
      ]
     },
     "execution_count": 1,
     "metadata": {},
     "output_type": "execute_result"
    }
   ],
   "source": [
    "with open(\"/home4/vuhl/hoanxt/vsasv-vlsp-code/data/cm_data/train2.txt\", \"r\") as f:\n",
    "    lines = f.read().splitlines()\n",
    "spoof_data =[]\n",
    "for line in lines:\n",
    "    path, label = line.split(\"|\")\n",
    "    if label==\"0\":\n",
    "        spoof_data.append(path)\n",
    "len(spoof_data)\n",
    "    "
   ]
  },
  {
   "cell_type": "code",
   "execution_count": 1,
   "metadata": {},
   "outputs": [
    {
     "name": "stdout",
     "output_type": "stream",
     "text": [
      "130916 835\n"
     ]
    }
   ],
   "source": [
    "with open(\"/home4/vuhl/hoanxt/SASVdata/sv/train_cleaned.txt\", \"r\") as f:\n",
    "    lines = f.read().splitlines()\n",
    "bonafide_data = []\n",
    "bonafide_label = []\n",
    "for line in lines:\n",
    "    label, path = line.split()\n",
    "    bonafide_data.append(path)\n",
    "    bonafide_label.append(label)\n",
    "bonafide_id = list(set(bonafide_label))\n",
    "print(len(bonafide_data), len(bonafide_id))"
   ]
  },
  {
   "cell_type": "code",
   "execution_count": 4,
   "metadata": {},
   "outputs": [],
   "source": [
    "with open(\"/home4/vuhl/hoanxt/vsasv-vlsp-code/data/asv_data/train_clean.txt\",'w') as f:\n",
    "    for path, label in zip(bonafide_data, bonafide_label):\n",
    "        f.write(path+\"|\"+label+\"\\n\") "
   ]
  },
  {
   "cell_type": "code",
   "execution_count": 3,
   "metadata": {},
   "outputs": [],
   "source": [
    "#create speaker json file\n",
    "import json\n",
    "\n",
    "values = [i for i in range(len(bonafide_label))]\n",
    "my_dict = dict(zip(bonafide_label, values))\n",
    "with open(\"/home4/vuhl/hoanxt/vsasv-vlsp-code/data/asv_data/speakers_clean.json\",\"w\") as f:\n",
    "    json.dump(my_dict, f)"
   ]
  },
  {
   "cell_type": "code",
   "execution_count": 19,
   "metadata": {},
   "outputs": [
    {
     "data": {
      "text/plain": [
       "5222277120"
      ]
     },
     "execution_count": 19,
     "metadata": {},
     "output_type": "execute_result"
    }
   ],
   "source": [
    "import os\n",
    "os.path.getsize(\"/home4/vuhl/hoanxt/SASVdata/english_data/ASVspoof2019/archive.zip\")     "
   ]
  },
  {
   "cell_type": "code",
   "execution_count": 20,
   "metadata": {},
   "outputs": [],
   "source": [
    "import zipfile\n",
    "with zipfile.ZipFile(\"/home4/vuhl/hoanxt/SASVdata/english_data/ASVspoof2019/archive.zip\", 'r') as zip_ref:\n",
    "  zip_ref.extractall('/home4/vuhl/hoanxt/SASVdata/english_data/ASVspoof2019')"
   ]
  }
 ],
 "metadata": {
  "kernelspec": {
   "display_name": "hoanxt2",
   "language": "python",
   "name": "python3"
  },
  "language_info": {
   "codemirror_mode": {
    "name": "ipython",
    "version": 3
   },
   "file_extension": ".py",
   "mimetype": "text/x-python",
   "name": "python",
   "nbconvert_exporter": "python",
   "pygments_lexer": "ipython3",
   "version": "3.9.18"
  }
 },
 "nbformat": 4,
 "nbformat_minor": 2
}
