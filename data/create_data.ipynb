{
 "cells": [
  {
   "cell_type": "markdown",
   "metadata": {},
   "source": [
    "Create an easier test file for english"
   ]
  },
  {
   "cell_type": "code",
   "execution_count": 3,
   "metadata": {},
   "outputs": [],
   "source": [
    "with open(\"/home4/vuhl/hoanxt/vsasv-vlsp-code/data/data_english/cm_data/train2.txt\", 'r') as f:\n",
    "    lines = f.read().splitlines()\n",
    "LA, PA = [], []\n",
    "for line in lines:\n",
    "    path, label = line.split(\"|\")\n",
    "    if label == \"0\":\n",
    "            if \"LA\" in path:\n",
    "                LA.append(path)\n",
    "            if \"PA\" in path:\n",
    "                PA.append(path)"
   ]
  },
  {
   "cell_type": "code",
   "execution_count": 4,
   "metadata": {},
   "outputs": [
    {
     "data": {
      "text/plain": [
       "'/home4/vuhl/hoanxt/SASVdata/english_data/ASVspoof2019/LA/LA/ASVspoof2019_LA_train/wav/LA_T_2343237.wav'"
      ]
     },
     "execution_count": 4,
     "metadata": {},
     "output_type": "execute_result"
    }
   ],
   "source": [
    "LA[23]"
   ]
  },
  {
   "cell_type": "code",
   "execution_count": null,
   "metadata": {},
   "outputs": [],
   "source": [
    "with open(\"/home4/vuhl/hoanxt/SASVdata/english_data/ASVspoof2019/PA/PA/ASVspoof2019_PA_cm_protocols/ASVspoof2019.PA.cm.train.trn.txt\", 'r') as f:\n",
    "    lines = f.read().splitlines()"
   ]
  }
 ],
 "metadata": {
  "kernelspec": {
   "display_name": "Python 3",
   "language": "python",
   "name": "python3"
  },
  "language_info": {
   "codemirror_mode": {
    "name": "ipython",
    "version": 3
   },
   "file_extension": ".py",
   "mimetype": "text/x-python",
   "name": "python",
   "nbconvert_exporter": "python",
   "pygments_lexer": "ipython3",
   "version": "3.9.18"
  }
 },
 "nbformat": 4,
 "nbformat_minor": 2
}
